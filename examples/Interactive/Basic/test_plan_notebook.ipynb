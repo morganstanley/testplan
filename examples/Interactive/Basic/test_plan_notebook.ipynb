{
 "cells": [
  {
   "cell_type": "code",
   "execution_count": null,
   "metadata": {
    "collapsed": false
   },
   "outputs": [],
   "source": [
    "import pprint\n",
    "\n",
    "from testplan import Testplan\n",
    "from testplan.common.utils.logger import TEST_INFO, DEBUG\n",
    "from my_tests.mtest import make_multitest"
   ]
  },
  {
   "cell_type": "code",
   "execution_count": null,
   "metadata": {
    "collapsed": true
   },
   "outputs": [],
   "source": [
    "# Initialize a plan with interactive mode flag set.\n",
    "plan = Testplan(\n",
    "    name=\"MyPlan\",\n",
    "    interactive_port=0,\n",
    "    parse_cmdline=False,\n",
    "    logger_level=TEST_INFO,\n",
    ")"
   ]
  },
  {
   "cell_type": "code",
   "execution_count": null,
   "metadata": {
    "collapsed": false
   },
   "outputs": [],
   "source": [
    "# Interactive mode serving interactive requests.\n",
    "plan.run()"
   ]
  },
  {
   "cell_type": "code",
   "execution_count": null,
   "metadata": {
    "collapsed": false
   },
   "outputs": [],
   "source": [
    "# Adding a test.\n",
    "test1_uid = plan.add(make_multitest(idx=\"1\"))\n",
    "print(\"Test uid: {}\".format(test1_uid))"
   ]
  },
  {
   "cell_type": "code",
   "execution_count": null,
   "metadata": {
    "collapsed": false
   },
   "outputs": [],
   "source": [
    "print(\"Testplan interactive handler: \".format(plan.i))\n",
    "print(\"Test1 added: {}\".format(plan.i.test(test_uid=\"Test1\")))"
   ]
  },
  {
   "cell_type": "code",
   "execution_count": null,
   "metadata": {
    "collapsed": false
   },
   "outputs": [],
   "source": [
    "# Run the tests added.\n",
    "plan.i.run_test(test_uid=\"Test1\")\n",
    "print(\n",
    "    \"Test1 report passing: {}\".format(\n",
    "        plan.i.test_report(test_uid=\"Test1\")[\"status\"]\n",
    "    )\n",
    ")"
   ]
  },
  {
   "cell_type": "code",
   "execution_count": null,
   "metadata": {
    "collapsed": true
   },
   "outputs": [],
   "source": [
    "# ACTION: Make a file edit in my_tests/dependency.py\n",
    "#   VALUE = 3\n",
    "#     change to:\n",
    "#   VALUE = 1"
   ]
  },
  {
   "cell_type": "code",
   "execution_count": null,
   "metadata": {
    "collapsed": false
   },
   "outputs": [],
   "source": [
    "# Reload the code after saving the fix.\n",
    "plan.i.reload()"
   ]
  },
  {
   "cell_type": "code",
   "execution_count": null,
   "metadata": {
    "collapsed": false
   },
   "outputs": [],
   "source": [
    "# Re-run the test that now should be passing.\n",
    "plan.i.run_test(test_uid=\"Test1\")\n",
    "print(\n",
    "    \"Test1 report passing: {}\".format(\n",
    "        plan.i.test_report(test_uid=\"Test1\")[\"status\"]\n",
    "    )\n",
    ")"
   ]
  },
  {
   "cell_type": "code",
   "execution_count": null,
   "metadata": {
    "collapsed": false
   },
   "outputs": [],
   "source": [
    "# Adding a second test.\n",
    "test2_uid = plan.schedule(\n",
    "    target=\"make_multitest\",\n",
    "    module=\"mytests.mtest\",\n",
    "    path=\".\",\n",
    "    kwargs=dict(idx=2),\n",
    ")\n",
    "print(\"Test uid: {}\".format(test2_uid))"
   ]
  },
  {
   "cell_type": "code",
   "execution_count": null,
   "metadata": {
    "collapsed": false
   },
   "outputs": [],
   "source": [
    "plan.i.run_all_tests()"
   ]
  },
  {
   "cell_type": "code",
   "execution_count": null,
   "metadata": {
    "collapsed": false
   },
   "outputs": [],
   "source": [
    "report = plan.i.report()\n",
    "print(\"Serialized tests report:\")\n",
    "pprint.pprint(plan.i.report(serialized=True))"
   ]
  },
  {
   "cell_type": "code",
   "execution_count": null,
   "metadata": {
    "collapsed": false
   },
   "outputs": [],
   "source": [
    "plan.i.reset_reports()"
   ]
  },
  {
   "cell_type": "code",
   "execution_count": null,
   "metadata": {
    "collapsed": false
   },
   "outputs": [],
   "source": [
    "# Runs a single testsuite from first test.\n",
    "plan.i.run_test_suite(test_uid=\"Test1\", suite_uid=\"BasicSuite\")"
   ]
  },
  {
   "cell_type": "code",
   "execution_count": null,
   "metadata": {
    "collapsed": false
   },
   "outputs": [],
   "source": [
    "print(\"Serialized Test1 report:\")\n",
    "pprint.pprint(plan.i.test_report(test_uid=\"Test1\", serialized=True))"
   ]
  },
  {
   "cell_type": "code",
   "execution_count": null,
   "metadata": {
    "collapsed": false
   },
   "outputs": [],
   "source": [
    "# Test should now be passing.\n",
    "print(\"Serialized Test1 report:\")\n",
    "pprint.pprint(plan.i.test_report(test_uid=\"Test1\", serialized=True))"
   ]
  },
  {
   "cell_type": "code",
   "execution_count": null,
   "metadata": {
    "collapsed": false
   },
   "outputs": [],
   "source": [
    "# Runs a single test case from both suites matched from test 2.\n",
    "plan.i.run_test_case(\n",
    "    test_uid=\"Test2\", suite_uid=\"*\", case_uid=\"send_and_receive_msg\"\n",
    ")"
   ]
  },
  {
   "cell_type": "code",
   "execution_count": null,
   "metadata": {
    "collapsed": false
   },
   "outputs": [],
   "source": [
    "# Print the test case report.\n",
    "print(\n",
    "    \"Serialized test:Test2, suite:TCPSuite - Custom_0, case:send_and_receive_msg report.\"\n",
    ")\n",
    "pprint.pprint(\n",
    "    plan.i.test_case_report(\n",
    "        test_uid=\"Test1\",\n",
    "        suite_uid=\"TCPSuite - Custom_0\",\n",
    "        case_uid=\"send_and_receive_msg\",\n",
    "        serialized=True,\n",
    "    )\n",
    ")"
   ]
  },
  {
   "cell_type": "code",
   "execution_count": null,
   "metadata": {
    "collapsed": false
   },
   "outputs": [],
   "source": [
    "# Abort the plan.\n",
    "plan.abort()"
   ]
  }
 ],
 "metadata": {
  "kernelspec": {
   "display_name": "Python 3",
   "language": "python",
   "name": "python3"
  },
  "language_info": {
   "codemirror_mode": {
    "name": "ipython",
    "version": 3.0
   },
   "file_extension": ".py",
   "mimetype": "text/x-python",
   "name": "python",
   "nbconvert_exporter": "python",
   "pygments_lexer": "ipython3",
   "version": "3.4.2"
  }
 },
 "nbformat": 4,
 "nbformat_minor": 0
}
