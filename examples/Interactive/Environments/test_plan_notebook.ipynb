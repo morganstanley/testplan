{
 "cells": [
  {
   "cell_type": "code",
   "execution_count": null,
   "metadata": {
    "collapsed": false
   },
   "outputs": [],
   "source": [
    "from testplan import Testplan\n",
    "from testplan.common.utils.logger import TEST_INFO, DEBUG\n",
    "from my_tests.mtest import make_multitest"
   ]
  },
  {
   "cell_type": "code",
   "execution_count": null,
   "metadata": {
    "collapsed": false
   },
   "outputs": [],
   "source": [
    "# Initialize a plan with interactive mode flag set.\n",
    "plan = Testplan(\n",
    "    name=\"MyPlan\",\n",
    "    interactive_port=0,\n",
    "    parse_cmdline=False,\n",
    "    logger_level=TEST_INFO,\n",
    ")"
   ]
  },
  {
   "cell_type": "code",
   "execution_count": null,
   "metadata": {
    "collapsed": false
   },
   "outputs": [],
   "source": [
    "# Interactive mode serving interactive requests.\n",
    "ihandler = plan.run()"
   ]
  },
  {
   "cell_type": "code",
   "execution_count": null,
   "metadata": {
    "collapsed": false
   },
   "outputs": [],
   "source": [
    "# Adding a test.\n",
    "test1_uid = plan.add(make_multitest(idx=\"1\"))\n",
    "print(\"Test uid: {}\".format(test1_uid))"
   ]
  },
  {
   "cell_type": "code",
   "execution_count": null,
   "metadata": {
    "collapsed": false
   },
   "outputs": [],
   "source": [
    "print(\"Testplan interactive handler: \".format(plan.i))\n",
    "test = plan.i.test(test1_uid)\n",
    "print(\"Test added: {}\".format(test))\n",
    "print(\"Test environment drivers: {}\".format(test))"
   ]
  },
  {
   "cell_type": "code",
   "execution_count": null,
   "metadata": {
    "collapsed": false
   },
   "outputs": [],
   "source": [
    "# Start the test envirorment resources (Server & client).\n",
    "plan.i.start_test_resources(test_uid=\"Test1\")"
   ]
  },
  {
   "cell_type": "code",
   "execution_count": null,
   "metadata": {
    "collapsed": false
   },
   "outputs": [],
   "source": [
    "print(\"Server status: {}\".format(test.resources.server.status.tag))\n",
    "print(\"Client status: {}\".format(test.resources.client.status.tag))"
   ]
  },
  {
   "cell_type": "code",
   "execution_count": null,
   "metadata": {
    "collapsed": false
   },
   "outputs": [],
   "source": [
    "# Run a test case.\n",
    "plan.i.run_test_case(\n",
    "    test_uid=test1_uid, suite_uid=\"TCPSuite\", case_uid=\"send_and_receive_msg\"\n",
    ")"
   ]
  },
  {
   "cell_type": "code",
   "execution_count": null,
   "metadata": {
    "collapsed": true
   },
   "outputs": [],
   "source": [
    "# Stop test resources.\n",
    "plan.i.stop_test_resources(test_uid=\"Test1\")"
   ]
  },
  {
   "cell_type": "code",
   "execution_count": null,
   "metadata": {
    "collapsed": false
   },
   "outputs": [],
   "source": [
    "print(\"Server status: {}\".format(test.resources.server.status.tag))\n",
    "print(\"Client status: {}\".format(test.resources.client.status.tag))"
   ]
  },
  {
   "cell_type": "code",
   "execution_count": null,
   "metadata": {
    "collapsed": false
   },
   "outputs": [],
   "source": [
    "# Add an independent environment.\n",
    "from testplan.environment import LocalEnvironment\n",
    "from testplan.testing.multitest.driver.tcp import TCPServer, TCPClient\n",
    "from testplan.common.utils.context import context\n",
    "\n",
    "plan.add_environment(\n",
    "    LocalEnvironment(\n",
    "        \"my_env1\",\n",
    "        [\n",
    "            TCPServer(name=\"server\"),\n",
    "            TCPClient(\n",
    "                name=\"client\",\n",
    "                host=context(\"server\", \"{{host}}\"),\n",
    "                port=context(\"server\", \"{{port}}\"),\n",
    "            ),\n",
    "        ],\n",
    "    )\n",
    ")"
   ]
  },
  {
   "cell_type": "code",
   "execution_count": null,
   "metadata": {
    "collapsed": false
   },
   "outputs": [],
   "source": [
    "# Operate my_env1\n",
    "env1 = plan.i.get_environment(\"my_env1\")\n",
    "env1.start()\n",
    "env1.server.accept_connection()\n",
    "print(\n",
    "    \"Client sends msg of length in bytes: {}\".format(\n",
    "        env1.client.send_text(\"Hello server!\")\n",
    "    )\n",
    ")\n",
    "print(\"Server receives: {}\".format(env1.server.receive_text()))\n",
    "env1.stop()"
   ]
  },
  {
   "cell_type": "code",
   "execution_count": null,
   "metadata": {
    "collapsed": false
   },
   "outputs": [],
   "source": [
    "# You can add an environment using HTTP requests from another tool i.e a UI.\n",
    "# To demonstrate that:\n",
    "import requests\n",
    "\n",
    "addr = \"http://{}:{}\".format(*plan.i.http_handler_info)\n",
    "print(\"HTTP listener: {}\".format(addr))\n",
    "response = requests.post(\n",
    "    \"{}/sync/create_new_environment\".format(addr), json={\"env_uid\": \"my_env2\"}\n",
    ")\n",
    "response = requests.post(\n",
    "    \"{}/sync/add_environment_resource\".format(addr),\n",
    "    json={\n",
    "        \"env_uid\": \"my_env2\",\n",
    "        \"target_class_name\": \"TCPServer\",\n",
    "        \"name\": \"server\",\n",
    "    },\n",
    ")\n",
    "response = requests.post(\n",
    "    \"{}/sync/add_environment_resource\".format(addr),\n",
    "    json={\n",
    "        \"env_uid\": \"my_env2\",\n",
    "        \"target_class_name\": \"TCPClient\",\n",
    "        \"name\": \"client\",\n",
    "        \"_ctx_host_ctx_driver\": \"server\",\n",
    "        \"_ctx_host_ctx_value\": \"{{host}}\",\n",
    "        \"_ctx_port_ctx_driver\": \"server\",\n",
    "        \"_ctx_port_ctx_value\": \"{{port}}\",\n",
    "    },\n",
    ")\n",
    "response = requests.post(\n",
    "    \"{}/sync/add_created_environment\".format(addr), json={\"env_uid\": \"my_env2\"}\n",
    ")"
   ]
  },
  {
   "cell_type": "code",
   "execution_count": null,
   "metadata": {
    "collapsed": false
   },
   "outputs": [],
   "source": [
    "# Operate my_env1 using HTTP.\n",
    "\n",
    "# Start and initialize connection.\n",
    "response = requests.post(\n",
    "    \"{}/sync/start_environment\".format(addr), json={\"env_uid\": \"my_env2\"}\n",
    ")\n",
    "response = requests.post(\n",
    "    \"{}/sync/environment_resource_operation\".format(addr),\n",
    "    json={\n",
    "        \"env_uid\": \"my_env2\",\n",
    "        \"resource_uid\": \"server\",\n",
    "        \"operation\": \"accept_connection\",\n",
    "    },\n",
    ")\n",
    "\n",
    "# Drivers operations example - send and receive a message.\n",
    "msg = \"Hello world\"\n",
    "response = requests.post(\n",
    "    \"{}/sync/environment_resource_operation\".format(addr),\n",
    "    json={\n",
    "        \"env_uid\": \"my_env2\",\n",
    "        \"resource_uid\": \"client\",\n",
    "        \"operation\": \"send_text\",\n",
    "        \"msg\": msg,\n",
    "    },\n",
    ")\n",
    "response = requests.post(\n",
    "    \"{}/sync/environment_resource_operation\".format(addr),\n",
    "    json={\n",
    "        \"env_uid\": \"my_env2\",\n",
    "        \"resource_uid\": \"server\",\n",
    "        \"operation\": \"receive_text\",\n",
    "    },\n",
    ")\n",
    "print(\"Servers receives: {}\".format(response.json()[\"result\"]))\n",
    "\n",
    "# Stop the environment.\n",
    "response = requests.post(\n",
    "    \"{}/sync/stop_environment\".format(addr), json={\"env_uid\": \"my_env2\"}\n",
    ")"
   ]
  },
  {
   "cell_type": "code",
   "execution_count": null,
   "metadata": {
    "collapsed": false
   },
   "outputs": [],
   "source": [
    "print(\n",
    "    \"Independent environments added: {}\".format(\n",
    "        list(plan.resources.environments.envs.keys())\n",
    "    )\n",
    ")"
   ]
  },
  {
   "cell_type": "code",
   "execution_count": null,
   "metadata": {
    "collapsed": false
   },
   "outputs": [],
   "source": [
    "# Abort the plan.\n",
    "plan.abort()"
   ]
  }
 ],
 "metadata": {
  "kernelspec": {
   "display_name": "Python 3",
   "language": "python",
   "name": "python3"
  },
  "language_info": {
   "codemirror_mode": {
    "name": "ipython",
    "version": 3
   },
   "file_extension": ".py",
   "mimetype": "text/x-python",
   "name": "python",
   "nbconvert_exporter": "python",
   "pygments_lexer": "ipython3",
   "version": "3.4.2"
  }
 },
 "nbformat": 4,
 "nbformat_minor": 0
}
